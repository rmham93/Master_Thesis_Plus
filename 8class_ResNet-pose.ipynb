{
 "cells": [
  {
   "cell_type": "markdown",
   "id": "4ceec7c0",
   "metadata": {},
   "source": [
    "## Resnet model with 2 inputs: pose, image"
   ]
  },
  {
   "cell_type": "code",
   "execution_count": 3,
   "id": "1d5edc12",
   "metadata": {},
   "outputs": [],
   "source": [
    "import os\n",
    "import numpy as np\n",
    "import pandas as pd\n",
    "import tensorflow as tf\n",
    "from PIL import Image\n",
    "from tensorflow.keras.preprocessing.image import ImageDataGenerator\n",
    "from tensorflow.keras.applications.resnet50 import ResNet50\n",
    "from PIL import ImageFile\n",
    "ImageFile.LOAD_TRUNCATED_IMAGES = True\n",
    "import matplotlib.pyplot as plt\n",
    "from tensorflow.keras.layers import Input, Dense, GlobalAveragePooling2D, Flatten, Reshape\n",
    "from tensorflow.keras.models import Model\n",
    "from sklearn.preprocessing import LabelEncoder\n",
    "from sklearn.preprocessing import OneHotEncoder"
   ]
  },
  {
   "cell_type": "code",
   "execution_count": null,
   "id": "40f30858",
   "metadata": {},
   "outputs": [],
   "source": [
    "BATCH_SIZE= 32\n",
    "num_classes= 8"
   ]
  },
  {
   "cell_type": "raw",
   "id": "89297e66",
   "metadata": {},
   "source": [
    "dict = {\n",
    "     'Tesettür Elbise': [1, 0, 0],\n",
    "     'Tunik': [0, 1, 0],\n",
    "    'Takım': [0, 0, 1]\n",
    "}"
   ]
  },
  {
   "cell_type": "code",
   "execution_count": 18,
   "id": "b9bfaa50",
   "metadata": {},
   "outputs": [],
   "source": [
    "dict = {\n",
    "     'Tesettür Elbise': [1, 0, 0, 0, 0, 0, 0, 0],\n",
    "     'Tunik': [0, 1, 0, 0, 0, 0, 0, 0],\n",
    "     'Şal':  [0, 0, 1, 0, 0, 0, 0, 0],\n",
    "     'Eşarp': [0, 0, 0, 1, 0, 0, 0, 0],\n",
    "     'Takım': [0, 0, 0, 0, 1, 0, 0, 0],\n",
    "     \"Kap / Pardesü\":[0, 0, 0, 0, 0, 1, 0, 0],\n",
    "     \"Ferace\":[0, 0, 0, 0, 0, 0, 1, 0],\n",
    "     \"T-shirt\":[0, 0, 0, 0, 0, 0, 0, 1]\n",
    "     }\n",
    "#One hot encoding of labels"
   ]
  },
  {
   "cell_type": "raw",
   "id": "aed56753",
   "metadata": {},
   "source": [
    "dict = {\n",
    "     'Tesettür Elbise': 0,\n",
    "     'Tunik': 1,\n",
    "     'Şal':  2,\n",
    "     'Eşarp': 3,\n",
    "     'Takım': 4,\n",
    "     \"Kap / Pardesü\": 5,\n",
    "     \"Ferace\": 6,\n",
    "     \"T-shirt\": 7\n",
    "     }"
   ]
  },
  {
   "cell_type": "code",
   "execution_count": null,
   "id": "9394b253",
   "metadata": {},
   "outputs": [],
   "source": [
    "class DataGenerator(tf.keras.utils.Sequence):\n",
    "    \n",
    "    def __init__(self, list_pose, batch_size= BATCH_SIZE, dim=(32,32,32), n_channels= 1, n_classes=8, shuffle= True):\n",
    "        self.dim = dim\n",
    "        self.batch_size = batch_size\n",
    "        self.list_pose = list_pose\n",
    "        self.n_classes = n_classes\n",
    "        self.n_channels = n_channels\n",
    "        self.shuffle = shuffle\n",
    "        self.on_epoch_end()\n",
    "        self.n = 0\n",
    "    \n",
    "    def __len__(self):\n",
    "        return int(np.floor(len(self.list_pose) / self.batch_size))\n",
    "\n",
    "    def __getitem__(self, index):\n",
    "        indexes = self.indexes[index*self.batch_size:(index+1)*self.batch_size]\n",
    "        list_pose_temp = [self.list_pose[k] for k in indexes]\n",
    "\n",
    "        i,p,l = self.__data_generation(list_pose_temp)\n",
    "        return [i, p], l #image, pose, label\n",
    "\n",
    "    def on_epoch_end(self):\n",
    "        self.indexes = np.arange(len(self.list_pose))\n",
    "        if self.shuffle == True:\n",
    "            np.random.shuffle(self.indexes)\n",
    "            \n",
    "    def __next__(self):\n",
    "        if self.n >= self.max:\n",
    "            self.n = 0\n",
    "        result = self.__getitem__(self.n)\n",
    "        self.n += 1\n",
    "        return result\n",
    "\n",
    "    def __data_generation(self, list_pose_temp):   \n",
    "        X = np.empty((self.batch_size, 66,1))\n",
    "        Z = np.empty((self.batch_size, 135,100, 3))\n",
    "        l = np.empty((self.batch_size, num_classes))\n",
    "        #X: poses   Z: Images   l: Labels   \n",
    "        \n",
    "        for i, each in enumerate(list_pose_temp):                \n",
    "            X[i,] = np.reshape(np.load('C:/Users/IDU/OneDrive - GTÜ/Desktop/TEZ/poses/NPdata/'+ str(each[1]) +\".npy\", allow_pickle=True),(66,1))\n",
    "            image = Image.open('C:/Users/IDU/Desktop/dataset/'+ str( each[1] )+ \".jpg\")\n",
    "            image = np.array( (image.convert('RGB')).resize((100,135)) ) \n",
    "            \n",
    "            Z[i,] = image / 255.0\n",
    "            \n",
    "            l[i] = dict[ each[2]]\n",
    "            \n",
    "        return Z,X,l\n",
    "    "
   ]
  },
  {
   "cell_type": "raw",
   "id": "9f0da43c",
   "metadata": {},
   "source": [
    "df.drop( df[ df['category'] == 'Eşarp'].index, axis = 0, inplace = True)\n",
    "df.drop( df[ df['category'] == 'Şal'].index, axis = 0, inplace = True)\n",
    "df.drop( df[ df['category'] == 'Kap / Pardesü'].index, axis = 0, inplace = True)\n",
    "df.drop( df[ df['category'] == 'Ferace'].index, axis = 0, inplace = True)\n",
    "df.drop( df[ df['category'] == 'T-shirt'].index, axis = 0, inplace = True)"
   ]
  },
  {
   "cell_type": "code",
   "execution_count": null,
   "id": "fb477638",
   "metadata": {},
   "outputs": [],
   "source": [
    "params = {'dim': (32,32,32),\n",
    "          'batch_size': BATCH_SIZE,\n",
    "          'n_classes': num_classes,\n",
    "          'n_channels': 1,\n",
    "          'shuffle': False}\n",
    "\n",
    "out = pd.read_csv(r\"C:\\Users\\IDU\\OneDrive - GTÜ\\Desktop\\TEZ\\poses\\Master_Thesis_Plus\\resnet-10classes\\out1.csv\")\n",
    "\n",
    "poselist = out.to_numpy() #contains productid and labels\n"
   ]
  },
  {
   "cell_type": "code",
   "execution_count": null,
   "id": "7bcc3129",
   "metadata": {},
   "outputs": [],
   "source": [
    "\n",
    "# Generators\n",
    "pose_generator = DataGenerator( poselist[:400], **params) #train generator\n",
    "val_generator = DataGenerator( poselist[45000:], **params)"
   ]
  },
  {
   "cell_type": "code",
   "execution_count": null,
   "id": "72d3067f",
   "metadata": {},
   "outputs": [],
   "source": [
    "df['category'].unique()"
   ]
  },
  {
   "cell_type": "markdown",
   "id": "a35909a1",
   "metadata": {},
   "source": [
    "________\n",
    "## test"
   ]
  },
  {
   "cell_type": "code",
   "execution_count": null,
   "id": "45f99696",
   "metadata": {},
   "outputs": [],
   "source": [
    "image =val_generator.__getitem__(0)[0][0][0]\n",
    "plt.imshow(image)"
   ]
  },
  {
   "cell_type": "code",
   "execution_count": null,
   "id": "26759f81",
   "metadata": {},
   "outputs": [],
   "source": [
    "im= \"1852141\"\n",
    "\n",
    "image = Image.open('C:/Users/IDU/Desktop/dataset/'+ im+ \".jpg\")\n",
    "image = np.array( (image.convert('RGB')).resize((100,135)) ) \n",
    "plt.imshow(image)"
   ]
  },
  {
   "cell_type": "code",
   "execution_count": null,
   "id": "edb736fc",
   "metadata": {},
   "outputs": [],
   "source": [
    "pose = np.reshape(np.load('C:/Users/IDU/OneDrive - GTÜ/Desktop/TEZ/poses/NPdata/'+ im +\".npy\", allow_pickle=True),(66,1))"
   ]
  },
  {
   "cell_type": "markdown",
   "id": "29161a17",
   "metadata": {},
   "source": [
    "_____"
   ]
  },
  {
   "cell_type": "code",
   "execution_count": null,
   "id": "32fb1965",
   "metadata": {},
   "outputs": [],
   "source": [
    "input_shape=(135,100,3) #image input shape\n",
    "pose_shape = (66,1)\n",
    "pose_input = tf.keras.layers.Input(pose_shape)\n",
    "\n",
    "model = ResNet50( include_top= False, input_shape= input_shape , classes= num_classes)\n",
    "\n",
    "x = GlobalAveragePooling2D()(model.output)\n",
    "x = Dense(256, activation ='relu')(x)\n",
    "x = Dense(66, activation ='relu')(x)\n",
    "x= tf.expand_dims(x, axis= -1)\n",
    "\n",
    "concat = tf.concat([x, pose_input], axis=1 )\n",
    "concat = Flatten()(concat)\n",
    "\n",
    "x = tf.keras.layers.Dense(32, activation= 'relu')(concat)\n",
    "\n",
    "y = tf.keras.layers.Dense(num_classes)(x)\n",
    "\n",
    "model = tf.keras.models.Model(inputs= [model.input, pose_input] , outputs= y)"
   ]
  },
  {
   "cell_type": "raw",
   "id": "f0e5ecaa",
   "metadata": {},
   "source": [
    "checkpoint_path = \"training_2/cp.ckpt\"\n",
    "checkpoint_dir = os.path.dirname(checkpoint_path)\n",
    "os.listdir(checkpoint_dir)\n",
    "#model.load_weights(checkpoint_path)"
   ]
  },
  {
   "cell_type": "code",
   "execution_count": null,
   "id": "e457c1bc",
   "metadata": {},
   "outputs": [],
   "source": [
    "from tensorflow.keras.callbacks import LearningRateScheduler\n",
    "def decay_schedule(epoch, lr):\n",
    "    # decay by 0.1 every 5 epochs; use `% 1` to decay after each epoch\n",
    "    if (epoch % 2 == 0) and (epoch != 0):\n",
    "        lr = lr * 0.1\n",
    "    return lr\n",
    "\n",
    "lr_scheduler = LearningRateScheduler(decay_schedule)\n"
   ]
  },
  {
   "cell_type": "code",
   "execution_count": null,
   "id": "8a21f667",
   "metadata": {},
   "outputs": [],
   "source": [
    "model.compile( optimizer= \"adam\", loss='categorical_crossentropy', metrics= ['accuracy'] )"
   ]
  },
  {
   "cell_type": "raw",
   "id": "612734c9",
   "metadata": {},
   "source": [
    "checkpoint_path = \"training_1/cp.ckpt\"\n",
    "checkpoint_dir = os.path.dirname(checkpoint_path)\n",
    "\n",
    "# Create a callback that saves the model's weights\n",
    "cp_callback = tf.keras.callbacks.ModelCheckpoint(filepath= checkpoint_path,\n",
    "                                                 save_weights_only= True,\n",
    "                                                 verbose= 1 )"
   ]
  },
  {
   "cell_type": "code",
   "execution_count": null,
   "id": "41a531f9",
   "metadata": {},
   "outputs": [],
   "source": [
    "history= model.fit(pose_generator, \n",
    "          batch_size= BATCH_SIZE,\n",
    "          epochs= 5 , callbacks=[lr_scheduler])\n",
    "#callbacks= [cp_callback]"
   ]
  },
  {
   "cell_type": "code",
   "execution_count": null,
   "id": "b896bf41",
   "metadata": {},
   "outputs": [],
   "source": []
  },
  {
   "cell_type": "code",
   "execution_count": null,
   "id": "1ad8047d",
   "metadata": {},
   "outputs": [],
   "source": []
  },
  {
   "cell_type": "code",
   "execution_count": null,
   "id": "7c300784",
   "metadata": {},
   "outputs": [],
   "source": []
  },
  {
   "cell_type": "code",
   "execution_count": null,
   "id": "5f6f23e4",
   "metadata": {},
   "outputs": [],
   "source": [
    "X = np.empty(( 1 , 66,1))\n",
    "Z = np.empty(( 1, 135,100, 3))\n",
    "\n",
    "each =\"1619375.npy\"\n",
    "X[0,] =np.reshape(np.load('C:/Users/IDU/OneDrive - GTÜ/Desktop/TEZ/poses/NPdata/'+ each ,allow_pickle=True),(66,1))\n",
    "image = Image.open('C:/Users/IDU/Desktop/dataset/'+ each.split(\".\")[0] +\".jpg\")\n",
    "image = np.array((image.convert('RGB')).resize((100, 135)))\n",
    "\n",
    "Z[0,] = image / 255.0\n",
    "plt.imshow(image)"
   ]
  },
  {
   "cell_type": "code",
   "execution_count": null,
   "id": "95de4b26",
   "metadata": {},
   "outputs": [],
   "source": [
    "model.predict([np.array(Z),X])"
   ]
  },
  {
   "cell_type": "code",
   "execution_count": null,
   "id": "81fdd85e",
   "metadata": {},
   "outputs": [],
   "source": []
  },
  {
   "cell_type": "code",
   "execution_count": null,
   "id": "77ea8b2e",
   "metadata": {},
   "outputs": [],
   "source": [
    "model.save_weights('./checkpoints/my_checkpoint')\n",
    "model.save_weights(\"C:/Users/IDU/OneDrive - GTÜ/Desktop/TEZ/poses/Master_Thesis_Plus/pretrained_weights_8class.h5\")"
   ]
  },
  {
   "cell_type": "code",
   "execution_count": null,
   "id": "f57d7863",
   "metadata": {},
   "outputs": [],
   "source": [
    "plt.plot(history.history['accuracy'])\n",
    "plt.plot(history.history['val_accuracy'])\n",
    "plt.title('model accuracy')\n",
    "plt.ylabel('accuracy')\n",
    "plt.xlabel('epoch')\n",
    "plt.legend(['train', 'val'], loc='upper left')\n",
    "\n",
    "plt.savefig('model_accuracy.png')\n",
    "plt.show()\n"
   ]
  },
  {
   "cell_type": "code",
   "execution_count": null,
   "id": "eeb0ffdd",
   "metadata": {},
   "outputs": [],
   "source": [
    "\n",
    "plt.plot(history.history['loss'])\n",
    "plt.plot(history.history['val_loss'])\n",
    "plt.title('model loss')\n",
    "plt.ylabel('loss')\n",
    "plt.xlabel('epoch')\n",
    "plt.legend(['train', 'val'], loc='upper left')\n",
    "plt.savefig('model_loss.png')\n",
    "plt.show()\n"
   ]
  },
  {
   "cell_type": "code",
   "execution_count": null,
   "id": "c2438fcf",
   "metadata": {},
   "outputs": [],
   "source": [
    "model.save('model_poseResnet.h5')"
   ]
  },
  {
   "cell_type": "code",
   "execution_count": null,
   "id": "01483106",
   "metadata": {},
   "outputs": [],
   "source": [
    "len(poselist)"
   ]
  },
  {
   "cell_type": "code",
   "execution_count": null,
   "id": "f97188b7",
   "metadata": {},
   "outputs": [],
   "source": []
  },
  {
   "cell_type": "code",
   "execution_count": null,
   "id": "a23c5c23",
   "metadata": {},
   "outputs": [],
   "source": []
  },
  {
   "cell_type": "markdown",
   "id": "8e01ff44",
   "metadata": {},
   "source": [
    "# 3/8 class resnet"
   ]
  },
  {
   "cell_type": "code",
   "execution_count": 5,
   "id": "c9d52ee3",
   "metadata": {},
   "outputs": [],
   "source": [
    "BATCH_SIZE= 8\n",
    "num_classes= 8"
   ]
  },
  {
   "cell_type": "code",
   "execution_count": 32,
   "id": "192f7602",
   "metadata": {},
   "outputs": [
    {
     "name": "stderr",
     "output_type": "stream",
     "text": [
      "C:\\Users\\IDU\\anaconda3\\envs\\tens_env\\lib\\site-packages\\IPython\\core\\interactiveshell.py:3185: DtypeWarning: Columns (56,60,75) have mixed types.Specify dtype option on import or set low_memory=False.\n",
      "  has_raised = await self.run_ast_nodes(code_ast.body, cell_name,\n"
     ]
    }
   ],
   "source": [
    "class DataGenerator(tf.keras.utils.Sequence):\n",
    "    \n",
    "    def __init__(self, list_pose, labeldf, batch_size= BATCH_SIZE, dim=(32,32,32), n_channels= 1,n_classes=3, shuffle= True):\n",
    "        self.dim = dim\n",
    "        self.batch_size = batch_size\n",
    "        self.list_pose = list_pose\n",
    "        self.n_classes = n_classes\n",
    "        self.n_channels = n_channels\n",
    "        self.shuffle = shuffle\n",
    "        self.labeldf =labeldf\n",
    "        self.on_epoch_end()\n",
    "        self.n = 0\n",
    "    \n",
    "    def __len__(self):\n",
    "        \n",
    "        return int(np.floor(len(self.list_pose) / self.batch_size))\n",
    "\n",
    "    def __getitem__(self, index):\n",
    "        indexes = self.indexes[index*self.batch_size:(index+1)*self.batch_size]\n",
    "        list_pose_temp = [self.list_pose[k] for k in indexes]\n",
    "\n",
    "        i,p,l = self.__data_generation(list_pose_temp)\n",
    "        #print(\"here\", i.shape,p.shape,l.shape)\n",
    "        return [i, p], l #image pose label\n",
    "\n",
    "    def on_epoch_end(self):\n",
    "        self.indexes = np.arange(len(self.list_pose))\n",
    "        if self.shuffle == True:\n",
    "            np.random.shuffle(self.indexes)\n",
    "            \n",
    "    def __next__(self):\n",
    "        if self.n >= self.max:\n",
    "            self.n = 0\n",
    "        result = self.__getitem__(self.n)\n",
    "        self.n += 1\n",
    "        return result\n",
    "\n",
    "    def __data_generation(self, list_pose_temp):   \n",
    "        X = np.empty((self.batch_size, 66,1))\n",
    "        Z = np.empty((self.batch_size, 135,100, 3))\n",
    "        l = np.empty((self.batch_size, self.n_classes ))\n",
    "        \n",
    "        for i, each in enumerate(list_pose_temp):          \n",
    "\n",
    "            X[i,] =np.reshape(np.load('C:/Users/IDU/OneDrive - GTÜ/Desktop/TEZ/poses/NPdata/'+ str(each[1])+\".npy\" ,allow_pickle=True),(66,1))\n",
    "            image = Image.open('C:/Users/IDU/Desktop/dataset/'+ str(each[1]) +\".jpg\")\n",
    "            image = np.array((image.convert('RGB')).resize((100, 135)))\n",
    "\n",
    "            Z[i,] = image / 255.0\n",
    "            label = self.labeldf['category'][self.labeldf['productid']== each[1]].values[0]\n",
    "            l[i,] = dict[each[2]]      \n",
    "            \n",
    "        return Z,X,l\n",
    "    \n",
    "\n",
    "\n",
    "params = {'dim': (32,32,32),\n",
    "          'batch_size': BATCH_SIZE,\n",
    "          'n_classes': 8,\n",
    "          'n_channels': 1,\"\"\n",
    "          'shuffle': True}\n",
    "\n",
    "\n",
    "df = pd.read_csv(r\"C:\\Users\\IDU\\OneDrive - GTÜ\\Desktop\\TEZ\\MODANISA\\prod_details.csv\")\n",
    "\n",
    "\n",
    "\n",
    "#print(\"debug\",df['category'][df['productid']== int(8010707 )])\n",
    "\n",
    "# Generators\n",
    "pose_generator = DataGenerator(poselist[:4000],df, **params)\n",
    "val_generator = DataGenerator(poselist[4001:4500],df, **params)\n",
    "\n",
    "input_shape=(135,100,3)\n",
    "\n",
    "pose_shape = (66,1)\n",
    "\n",
    "model = ResNet50( include_top= False , input_shape= input_shape , classes= num_classes)\n",
    "\n",
    "\n",
    "x = GlobalAveragePooling2D()(model.output)\n",
    "x = Dense(256, activation ='relu')(x)\n",
    "x = Dense(66, activation ='relu')(x)\n",
    "x= tf.expand_dims(x, axis= -1)\n",
    "\n",
    "\n",
    "pose_input = tf.keras.layers.Input(pose_shape)\n",
    "\n",
    "concat = tf.concat([x, pose_input], axis=1 )\n",
    "concat = Flatten()(concat)\n",
    "\n",
    "#x = Dense(64, activation='relu')(concat)\n",
    "x = tf.keras.layers.Dense(32, activation= 'relu')(concat)\n",
    "\n",
    "y = tf.keras.layers.Dense(num_classes, activation= 'sigmoid')(x)\n",
    "\n",
    "\n",
    "model = tf.keras.models.Model(inputs= [model.input, pose_input] , outputs= y)\n",
    "\n",
    "model.compile( optimizer= \"adam\", loss='categorical_crossentropy', metrics= ['accuracy'] )\n"
   ]
  },
  {
   "cell_type": "code",
   "execution_count": 33,
   "id": "41120a00",
   "metadata": {},
   "outputs": [
    {
     "name": "stdout",
     "output_type": "stream",
     "text": [
      "Epoch 1/40\n",
      "500/500 [==============================] - 1778s 4s/step - loss: 1.6839 - accuracy: 0.3347\n",
      "Epoch 2/40\n",
      "500/500 [==============================] - 1397s 3s/step - loss: 1.4071 - accuracy: 0.3618\n",
      "Epoch 3/40\n",
      "500/500 [==============================] - 1322s 3s/step - loss: 1.3424 - accuracy: 0.3672\n",
      "Epoch 4/40\n",
      "500/500 [==============================] - 1334s 3s/step - loss: 1.2280 - accuracy: 0.5288\n",
      "Epoch 5/40\n",
      "500/500 [==============================] - 1312s 3s/step - loss: 1.0561 - accuracy: 0.6438\n",
      "Epoch 6/40\n",
      "500/500 [==============================] - 1313s 3s/step - loss: 0.9676 - accuracy: 0.6722\n",
      "Epoch 7/40\n",
      "500/500 [==============================] - 1319s 3s/step - loss: 0.9046 - accuracy: 0.6873\n",
      "Epoch 8/40\n",
      "500/500 [==============================] - 1309s 3s/step - loss: 0.8577 - accuracy: 0.6960\n",
      "Epoch 9/40\n",
      "500/500 [==============================] - 1324s 3s/step - loss: 0.8174 - accuracy: 0.7067\n",
      "Epoch 10/40\n",
      "500/500 [==============================] - 1318s 3s/step - loss: 0.7743 - accuracy: 0.7215\n",
      "Epoch 11/40\n",
      "500/500 [==============================] - 1335s 3s/step - loss: 0.7244 - accuracy: 0.7455\n",
      "Epoch 12/40\n",
      "500/500 [==============================] - 1343s 3s/step - loss: 0.6648 - accuracy: 0.7655\n",
      "Epoch 13/40\n",
      "500/500 [==============================] - 1317s 3s/step - loss: 0.6244 - accuracy: 0.7815\n",
      "Epoch 14/40\n",
      "500/500 [==============================] - 1321s 3s/step - loss: 0.5612 - accuracy: 0.8012\n",
      "Epoch 15/40\n",
      "500/500 [==============================] - 1341s 3s/step - loss: 0.4967 - accuracy: 0.8313\n",
      "Epoch 16/40\n",
      "500/500 [==============================] - 1340s 3s/step - loss: 0.4391 - accuracy: 0.8493\n",
      "Epoch 17/40\n",
      "500/500 [==============================] - 1345s 3s/step - loss: 0.3905 - accuracy: 0.8655\n",
      "Epoch 18/40\n",
      "500/500 [==============================] - 1326s 3s/step - loss: 0.3323 - accuracy: 0.8842\n",
      "Epoch 19/40\n",
      "500/500 [==============================] - 1323s 3s/step - loss: 0.2879 - accuracy: 0.9003\n",
      "Epoch 20/40\n",
      "500/500 [==============================] - 1330s 3s/step - loss: 0.2599 - accuracy: 0.9097\n",
      "Epoch 21/40\n",
      "500/500 [==============================] - 1307s 3s/step - loss: 0.2359 - accuracy: 0.9193\n",
      "Epoch 22/40\n",
      "500/500 [==============================] - 1312s 3s/step - loss: 0.1920 - accuracy: 0.9388\n",
      "Epoch 23/40\n",
      "500/500 [==============================] - 1324s 3s/step - loss: 0.1769 - accuracy: 0.9390\n",
      "Epoch 24/40\n",
      "500/500 [==============================] - 1380s 3s/step - loss: 0.1665 - accuracy: 0.9417\n",
      "Epoch 25/40\n",
      "500/500 [==============================] - 1324s 3s/step - loss: 0.1328 - accuracy: 0.9550\n",
      "Epoch 26/40\n",
      "500/500 [==============================] - 1312s 3s/step - loss: 0.1222 - accuracy: 0.9585\n",
      "Epoch 27/40\n",
      "500/500 [==============================] - 1315s 3s/step - loss: 0.1377 - accuracy: 0.9535\n",
      "Epoch 28/40\n",
      "500/500 [==============================] - 1347s 3s/step - loss: 0.1195 - accuracy: 0.9613\n",
      "Epoch 29/40\n",
      "500/500 [==============================] - 1313s 3s/step - loss: 0.0937 - accuracy: 0.9688\n",
      "Epoch 30/40\n",
      "500/500 [==============================] - 1311s 3s/step - loss: 0.1026 - accuracy: 0.9655\n",
      "Epoch 31/40\n",
      "500/500 [==============================] - 1329s 3s/step - loss: 0.0933 - accuracy: 0.9707\n",
      "Epoch 32/40\n",
      "500/500 [==============================] - 1316s 3s/step - loss: 0.1116 - accuracy: 0.9675\n",
      "Epoch 33/40\n",
      "500/500 [==============================] - 1320s 3s/step - loss: 0.0635 - accuracy: 0.9795\n",
      "Epoch 34/40\n",
      "500/500 [==============================] - 1315s 3s/step - loss: 0.0884 - accuracy: 0.9722\n",
      "Epoch 35/40\n",
      "500/500 [==============================] - 1305s 3s/step - loss: 0.0895 - accuracy: 0.9725\n",
      "Epoch 36/40\n",
      "500/500 [==============================] - 1327s 3s/step - loss: 0.0463 - accuracy: 0.9858\n",
      "Epoch 37/40\n",
      "500/500 [==============================] - 1326s 3s/step - loss: 0.1076 - accuracy: 0.9690\n",
      "Epoch 38/40\n",
      "500/500 [==============================] - 1317s 3s/step - loss: 0.0892 - accuracy: 0.9718\n",
      "Epoch 39/40\n",
      "500/500 [==============================] - 1333s 3s/step - loss: 0.0536 - accuracy: 0.9815\n",
      "Epoch 40/40\n",
      "500/500 [==============================] - 1312s 3s/step - loss: 0.0551 - accuracy: 0.9833\n"
     ]
    }
   ],
   "source": [
    "history = model.fit( pose_generator, \n",
    "          batch_size = BATCH_SIZE,\n",
    "          epochs= 40 )"
   ]
  },
  {
   "cell_type": "code",
   "execution_count": null,
   "id": "8eaa9bf3",
   "metadata": {},
   "outputs": [],
   "source": []
  },
  {
   "cell_type": "code",
   "execution_count": null,
   "id": "183f08ae",
   "metadata": {},
   "outputs": [],
   "source": []
  },
  {
   "cell_type": "code",
   "execution_count": null,
   "id": "679f23b6",
   "metadata": {},
   "outputs": [],
   "source": []
  },
  {
   "cell_type": "code",
   "execution_count": null,
   "id": "6c41862e",
   "metadata": {},
   "outputs": [],
   "source": [
    "\n"
   ]
  },
  {
   "cell_type": "code",
   "execution_count": null,
   "id": "fb5a16df",
   "metadata": {},
   "outputs": [],
   "source": []
  },
  {
   "cell_type": "code",
   "execution_count": null,
   "id": "fa20bade",
   "metadata": {},
   "outputs": [],
   "source": []
  },
  {
   "cell_type": "code",
   "execution_count": null,
   "id": "3eaece72",
   "metadata": {},
   "outputs": [],
   "source": []
  },
  {
   "cell_type": "code",
   "execution_count": 34,
   "id": "c4c408a9",
   "metadata": {},
   "outputs": [
    {
     "data": {
      "image/png": "[encoded data removed]",
      "text/plain": [
       "<Figure size 432x288 with 1 Axes>"
      ]
     },
     "metadata": {
      "needs_background": "light"
     },
     "output_type": "display_data"
    }
   ],
   "source": [
    "plt.plot(history.history['accuracy'])\n",
    "plt.title('model accuracy')\n",
    "plt.ylabel('accuracy')\n",
    "plt.xlabel('epoch')\n",
    "plt.legend(['train', 'val'], loc='upper left')\n",
    "\n",
    "plt.savefig('model_accuracy.png')\n",
    "plt.show()\n"
   ]
  },
  {
   "cell_type": "code",
   "execution_count": 35,
   "id": "fea246f4",
   "metadata": {},
   "outputs": [
    {
     "data": {
      "image/png": "[encoded data removed]",
      "text/plain": [
       "<Figure size 432x288 with 1 Axes>"
      ]
     },
     "metadata": {
      "needs_background": "light"
     },
     "output_type": "display_data"
    }
   ],
   "source": [
    "\n",
    "plt.plot(history.history['loss'])\n",
    "plt.title('model loss')\n",
    "plt.ylabel('loss')\n",
    "plt.xlabel('epoch')\n",
    "plt.legend(['train', 'val'], loc='upper left')\n",
    "plt.savefig('model_loss.png')\n",
    "plt.show()\n"
   ]
  },
  {
   "cell_type": "code",
   "execution_count": 37,
   "id": "92d2d0e9",
   "metadata": {},
   "outputs": [],
   "source": [
    "model.save(r\"C:\\Users\\IDU\\OneDrive - GTÜ\\Desktop\\TEZ\\poses\\Master_Thesis_Plus\\resnet-10classes\\resnet8class_good.h5\")"
   ]
  },
  {
   "cell_type": "markdown",
   "id": "fad22078",
   "metadata": {},
   "source": [
    "#  Evaluate "
   ]
  },
  {
   "cell_type": "code",
   "execution_count": 65,
   "id": "7c0fcbf5",
   "metadata": {},
   "outputs": [],
   "source": [
    "val_params= {'dim': (32,32,32),\n",
    "          'batch_size': BATCH_SIZE,\n",
    "          'n_classes': 8,\n",
    "          'n_channels': 1,\"\"\n",
    "          'shuffle': False}"
   ]
  },
  {
   "cell_type": "code",
   "execution_count": 67,
   "id": "fd2cf362",
   "metadata": {},
   "outputs": [],
   "source": [
    "val_generator = DataGenerator(poselist[4001:4500],df, **val_params)"
   ]
  },
  {
   "cell_type": "code",
   "execution_count": 40,
   "id": "2cf44508",
   "metadata": {},
   "outputs": [],
   "source": [
    "y_pred = model.predict(val_generator)"
   ]
  },
  {
   "cell_type": "code",
   "execution_count": null,
   "id": "f46978cf",
   "metadata": {},
   "outputs": [],
   "source": []
  },
  {
   "cell_type": "code",
   "execution_count": null,
   "id": "5c7408a4",
   "metadata": {},
   "outputs": [],
   "source": []
  },
  {
   "cell_type": "code",
   "execution_count": 45,
   "id": "454cf180",
   "metadata": {},
   "outputs": [
    {
     "data": {
      "text/plain": [
       "array([3.4692794e-02, 5.1610881e-01, 1.8743900e-06, 4.5970934e-09,\n",
       "       5.1450431e-03, 2.6386976e-04, 4.9323397e-08, 5.2573882e-06],\n",
       "      dtype=float32)"
      ]
     },
     "execution_count": 45,
     "metadata": {},
     "output_type": "execute_result"
    }
   ],
   "source": [
    "y_pred[0]"
   ]
  },
  {
   "cell_type": "code",
   "execution_count": 59,
   "id": "cb07d49a",
   "metadata": {},
   "outputs": [
    {
     "data": {
      "text/plain": [
       "(8, 135, 100, 3)"
      ]
     },
     "execution_count": 59,
     "metadata": {},
     "output_type": "execute_result"
    }
   ],
   "source": [
    "np.array(val_generator.__getitem__(0)[0][0]).shape"
   ]
  },
  {
   "cell_type": "code",
   "execution_count": 63,
   "id": "11ed8298",
   "metadata": {},
   "outputs": [
    {
     "data": {
      "text/plain": [
       "(135, 100, 3)"
      ]
     },
     "execution_count": 63,
     "metadata": {},
     "output_type": "execute_result"
    }
   ],
   "source": [
    "(val_generator.__getitem__(0)[0][0][0]).shape"
   ]
  },
  {
   "cell_type": "code",
   "execution_count": 64,
   "id": "85a78033",
   "metadata": {},
   "outputs": [
    {
     "data": {
      "text/plain": [
       "<matplotlib.image.AxesImage at 0x21d2b01f880>"
      ]
     },
     "execution_count": 64,
     "metadata": {},
     "output_type": "execute_result"
    },
    {
     "data": {
      "image/png": "[encoded data removed]",
      "text/plain": [
       "<Figure size 432x288 with 1 Axes>"
      ]
     },
     "metadata": {
      "needs_background": "light"
     },
     "output_type": "display_data"
    }
   ],
   "source": [
    "im =val_generator.__getitem__(0)[0][0][0]\n",
    "plt.imshow(im)"
   ]
  },
  {
   "cell_type": "code",
   "execution_count": 66,
   "id": "c3b7b759",
   "metadata": {},
   "outputs": [
    {
     "data": {
      "text/plain": [
       "array([3, 1168509, 'Tunik'], dtype=object)"
      ]
     },
     "execution_count": 66,
     "metadata": {},
     "output_type": "execute_result"
    }
   ],
   "source": [
    "poselist[0]"
   ]
  },
  {
   "cell_type": "code",
   "execution_count": 69,
   "id": "85b4fd68",
   "metadata": {},
   "outputs": [
    {
     "name": "stdout",
     "output_type": "stream",
     "text": [
      "62/62 [==============================] - 34s 541ms/step - loss: 1.7247 - accuracy: 0.6794\n",
      "evaluate accuracy: 67.94%\n"
     ]
    }
   ],
   "source": [
    "scores = model.evaluate(val_generator)\n",
    "print(\"%s%s: %.2f%%\" % (\"evaluate \",model.metrics_names[1], scores[1]*100))\n"
   ]
  },
  {
   "cell_type": "markdown",
   "id": "35eff37b",
   "metadata": {},
   "source": [
    "# Predict"
   ]
  },
  {
   "cell_type": "code",
   "execution_count": 70,
   "id": "6f568a3d",
   "metadata": {},
   "outputs": [
    {
     "data": {
      "text/plain": [
       "<matplotlib.image.AxesImage at 0x21d6b2a1a60>"
      ]
     },
     "execution_count": 70,
     "metadata": {},
     "output_type": "execute_result"
    },
    {
     "data": {
      "image/png": "[encoded data removed]",
      "text/plain": [
       "<Figure size 432x288 with 1 Axes>"
      ]
     },
     "metadata": {
      "needs_background": "light"
     },
     "output_type": "display_data"
    }
   ],
   "source": [
    "X = np.empty(( 1 , 66,1))\n",
    "Z = np.empty(( 1, 135,100, 3))\n",
    "\n",
    "each =\"1619375.npy\"\n",
    "X[0,] =np.reshape(np.load('C:/Users/IDU/OneDrive - GTÜ/Desktop/TEZ/poses/NPdata/'+ each ,allow_pickle=True),(66,1))\n",
    "image = Image.open('C:/Users/IDU/Desktop/dataset/'+ each.split(\".\")[0] +\".jpg\")\n",
    "image = np.array((image.convert('RGB')).resize((100, 135)))\n",
    "\n",
    "Z[0,] = image / 255.0\n",
    "plt.imshow(image)"
   ]
  },
  {
   "cell_type": "code",
   "execution_count": 71,
   "id": "cd2b6769",
   "metadata": {},
   "outputs": [],
   "source": [
    "y_pred = model.predict([np.array(Z),X])"
   ]
  },
  {
   "cell_type": "code",
   "execution_count": 73,
   "id": "9838bef1",
   "metadata": {},
   "outputs": [
    {
     "data": {
      "text/plain": [
       "6"
      ]
     },
     "execution_count": 73,
     "metadata": {},
     "output_type": "execute_result"
    }
   ],
   "source": [
    "np.argmax(y_pred) #tişört ??? :S"
   ]
  },
  {
   "cell_type": "code",
   "execution_count": null,
   "id": "4983fa4b",
   "metadata": {},
   "outputs": [],
   "source": []
  },
  {
   "cell_type": "code",
   "execution_count": 79,
   "id": "a8d44338",
   "metadata": {},
   "outputs": [
    {
     "data": {
      "text/plain": [
       "array([[3.7839520e-01, 1.1122554e-06, 1.1717688e-05, 3.4057189e-06,\n",
       "        1.5187860e-03, 5.3048134e-04, 6.3083547e-01, 8.2680749e-08]],\n",
       "      dtype=float32)"
      ]
     },
     "execution_count": 79,
     "metadata": {},
     "output_type": "execute_result"
    }
   ],
   "source": [
    "y_pred"
   ]
  },
  {
   "cell_type": "code",
   "execution_count": 87,
   "id": "efe811b2",
   "metadata": {},
   "outputs": [],
   "source": [
    "y_true = [[1, 0, 0, 0, 0, 0, 0, 0]]"
   ]
  },
  {
   "cell_type": "code",
   "execution_count": 88,
   "id": "887a7e1a",
   "metadata": {},
   "outputs": [
    {
     "data": {
      "text/plain": [
       "0.98304915"
      ]
     },
     "execution_count": 88,
     "metadata": {},
     "output_type": "execute_result"
    }
   ],
   "source": [
    "cce = tf.keras.losses.CategoricalCrossentropy()\n",
    "cce(y_true, y_pred).numpy()"
   ]
  },
  {
   "cell_type": "code",
   "execution_count": 89,
   "id": "0fe63da3",
   "metadata": {},
   "outputs": [
    {
     "data": {
      "text/plain": [
       "array([252080, 184235, 'Eşarp'], dtype=object)"
      ]
     },
     "execution_count": 89,
     "metadata": {},
     "output_type": "execute_result"
    }
   ],
   "source": [
    "poselist[-1]"
   ]
  },
  {
   "cell_type": "code",
   "execution_count": 90,
   "id": "5a9316b7",
   "metadata": {},
   "outputs": [
    {
     "ename": "FileNotFoundError",
     "evalue": "[Errno 2] No such file or directory: 'C:/Users/IDU/OneDrive - GTÜ/Desktop/TEZ/poses/NPdata/252080.npy'",
     "output_type": "error",
     "traceback": [
      "\u001b[1;31m---------------------------------------------------------------------------\u001b[0m",
      "\u001b[1;31mFileNotFoundError\u001b[0m                         Traceback (most recent call last)",
      "\u001b[1;32m~\\AppData\\Local\\Temp/ipykernel_9832/2240014745.py\u001b[0m in \u001b[0;36m<module>\u001b[1;34m\u001b[0m\n\u001b[0;32m      3\u001b[0m \u001b[1;33m\u001b[0m\u001b[0m\n\u001b[0;32m      4\u001b[0m \u001b[0meach\u001b[0m \u001b[1;33m=\u001b[0m\u001b[1;34m\"252080.npy\"\u001b[0m\u001b[1;33m\u001b[0m\u001b[1;33m\u001b[0m\u001b[0m\n\u001b[1;32m----> 5\u001b[1;33m \u001b[0mX\u001b[0m\u001b[1;33m[\u001b[0m\u001b[1;36m0\u001b[0m\u001b[1;33m,\u001b[0m\u001b[1;33m]\u001b[0m \u001b[1;33m=\u001b[0m\u001b[0mnp\u001b[0m\u001b[1;33m.\u001b[0m\u001b[0mreshape\u001b[0m\u001b[1;33m(\u001b[0m\u001b[0mnp\u001b[0m\u001b[1;33m.\u001b[0m\u001b[0mload\u001b[0m\u001b[1;33m(\u001b[0m\u001b[1;34m'C:/Users/IDU/OneDrive - GTÜ/Desktop/TEZ/poses/NPdata/'\u001b[0m\u001b[1;33m+\u001b[0m \u001b[0meach\u001b[0m \u001b[1;33m,\u001b[0m\u001b[0mallow_pickle\u001b[0m\u001b[1;33m=\u001b[0m\u001b[1;32mTrue\u001b[0m\u001b[1;33m)\u001b[0m\u001b[1;33m,\u001b[0m\u001b[1;33m(\u001b[0m\u001b[1;36m66\u001b[0m\u001b[1;33m,\u001b[0m\u001b[1;36m1\u001b[0m\u001b[1;33m)\u001b[0m\u001b[1;33m)\u001b[0m\u001b[1;33m\u001b[0m\u001b[1;33m\u001b[0m\u001b[0m\n\u001b[0m\u001b[0;32m      6\u001b[0m \u001b[0mimage\u001b[0m \u001b[1;33m=\u001b[0m \u001b[0mImage\u001b[0m\u001b[1;33m.\u001b[0m\u001b[0mopen\u001b[0m\u001b[1;33m(\u001b[0m\u001b[1;34m'C:/Users/IDU/Desktop/dataset/'\u001b[0m\u001b[1;33m+\u001b[0m \u001b[0meach\u001b[0m\u001b[1;33m.\u001b[0m\u001b[0msplit\u001b[0m\u001b[1;33m(\u001b[0m\u001b[1;34m\".\"\u001b[0m\u001b[1;33m)\u001b[0m\u001b[1;33m[\u001b[0m\u001b[1;36m0\u001b[0m\u001b[1;33m]\u001b[0m \u001b[1;33m+\u001b[0m\u001b[1;34m\".jpg\"\u001b[0m\u001b[1;33m)\u001b[0m\u001b[1;33m\u001b[0m\u001b[1;33m\u001b[0m\u001b[0m\n\u001b[0;32m      7\u001b[0m \u001b[0mimage\u001b[0m \u001b[1;33m=\u001b[0m \u001b[0mnp\u001b[0m\u001b[1;33m.\u001b[0m\u001b[0marray\u001b[0m\u001b[1;33m(\u001b[0m\u001b[1;33m(\u001b[0m\u001b[0mimage\u001b[0m\u001b[1;33m.\u001b[0m\u001b[0mconvert\u001b[0m\u001b[1;33m(\u001b[0m\u001b[1;34m'RGB'\u001b[0m\u001b[1;33m)\u001b[0m\u001b[1;33m)\u001b[0m\u001b[1;33m.\u001b[0m\u001b[0mresize\u001b[0m\u001b[1;33m(\u001b[0m\u001b[1;33m(\u001b[0m\u001b[1;36m100\u001b[0m\u001b[1;33m,\u001b[0m \u001b[1;36m135\u001b[0m\u001b[1;33m)\u001b[0m\u001b[1;33m)\u001b[0m\u001b[1;33m)\u001b[0m\u001b[1;33m\u001b[0m\u001b[1;33m\u001b[0m\u001b[0m\n",
      "\u001b[1;32m~\\anaconda3\\envs\\tens_env\\lib\\site-packages\\numpy\\lib\\npyio.py\u001b[0m in \u001b[0;36mload\u001b[1;34m(file, mmap_mode, allow_pickle, fix_imports, encoding)\u001b[0m\n\u001b[0;32m    415\u001b[0m             \u001b[0mown_fid\u001b[0m \u001b[1;33m=\u001b[0m \u001b[1;32mFalse\u001b[0m\u001b[1;33m\u001b[0m\u001b[1;33m\u001b[0m\u001b[0m\n\u001b[0;32m    416\u001b[0m         \u001b[1;32melse\u001b[0m\u001b[1;33m:\u001b[0m\u001b[1;33m\u001b[0m\u001b[1;33m\u001b[0m\u001b[0m\n\u001b[1;32m--> 417\u001b[1;33m             \u001b[0mfid\u001b[0m \u001b[1;33m=\u001b[0m \u001b[0mstack\u001b[0m\u001b[1;33m.\u001b[0m\u001b[0menter_context\u001b[0m\u001b[1;33m(\u001b[0m\u001b[0mopen\u001b[0m\u001b[1;33m(\u001b[0m\u001b[0mos_fspath\u001b[0m\u001b[1;33m(\u001b[0m\u001b[0mfile\u001b[0m\u001b[1;33m)\u001b[0m\u001b[1;33m,\u001b[0m \u001b[1;34m\"rb\"\u001b[0m\u001b[1;33m)\u001b[0m\u001b[1;33m)\u001b[0m\u001b[1;33m\u001b[0m\u001b[1;33m\u001b[0m\u001b[0m\n\u001b[0m\u001b[0;32m    418\u001b[0m             \u001b[0mown_fid\u001b[0m \u001b[1;33m=\u001b[0m \u001b[1;32mTrue\u001b[0m\u001b[1;33m\u001b[0m\u001b[1;33m\u001b[0m\u001b[0m\n\u001b[0;32m    419\u001b[0m \u001b[1;33m\u001b[0m\u001b[0m\n",
      "\u001b[1;31mFileNotFoundError\u001b[0m: [Errno 2] No such file or directory: 'C:/Users/IDU/OneDrive - GTÜ/Desktop/TEZ/poses/NPdata/252080.npy'"
     ]
    }
   ],
   "source": [
    "X = np.empty(( 1 , 66,1))\n",
    "Z = np.empty(( 1, 135,100, 3))\n",
    "\n",
    "each =\"252080.npy\"\n",
    "X[0,] =np.reshape(np.load('C:/Users/IDU/OneDrive - GTÜ/Desktop/TEZ/poses/NPdata/'+ each ,allow_pickle=True),(66,1))\n",
    "image = Image.open('C:/Users/IDU/Desktop/dataset/'+ each.split(\".\")[0] +\".jpg\")\n",
    "image = np.array((image.convert('RGB')).resize((100, 135)))\n",
    "\n",
    "Z[0,] = image / 255.0\n",
    "plt.imshow(image)"
   ]
  },
  {
   "cell_type": "code",
   "execution_count": null,
   "id": "b715313f",
   "metadata": {},
   "outputs": [],
   "source": []
  },
  {
   "cell_type": "code",
   "execution_count": null,
   "id": "fe920e53",
   "metadata": {},
   "outputs": [],
   "source": []
  }
 ],
 "metadata": {
  "kernelspec": {
   "display_name": "Python 3 (ipykernel)",
   "language": "python",
   "name": "python3"
  },
  "language_info": {
   "codemirror_mode": {
    "name": "ipython",
    "version": 3
   },
   "file_extension": ".py",
   "mimetype": "text/x-python",
   "name": "python",
   "nbconvert_exporter": "python",
   "pygments_lexer": "ipython3",
   "version": "3.8.8"
  }
 },
 "nbformat": 4,
 "nbformat_minor": 5
}
