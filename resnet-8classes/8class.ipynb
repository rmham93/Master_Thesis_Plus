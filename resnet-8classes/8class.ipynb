{
 "cells": [
  {
   "cell_type": "markdown",
   "id": "4ceec7c0",
   "metadata": {},
   "source": [
    "## Resnet model with 2 inputs: pose, image"
   ]
  },
  {
   "cell_type": "code",
   "execution_count": 1,
   "id": "1d5edc12",
   "metadata": {},
   "outputs": [],
   "source": [
    "import os\n",
    "import numpy as np\n",
    "import pandas as pd\n",
    "import tensorflow as tf\n",
    "from PIL import Image\n",
    "from tensorflow.keras.preprocessing.image import ImageDataGenerator\n",
    "from tensorflow.keras.applications.resnet50 import ResNet50\n",
    "from PIL import ImageFile\n",
    "ImageFile.LOAD_TRUNCATED_IMAGES = True\n",
    "import matplotlib.pyplot as plt\n",
    "from tensorflow.keras.layers import Input, Dense, GlobalAveragePooling2D, Flatten, Reshape\n",
    "from tensorflow.keras.models import Model\n",
    "from sklearn.preprocessing import LabelEncoder\n",
    "from sklearn.preprocessing import OneHotEncoder"
   ]
  },
  {
   "cell_type": "code",
   "execution_count": 19,
   "id": "dbcb3ded",
   "metadata": {},
   "outputs": [],
   "source": [
    "BATCH_SIZE= 64\n",
    "num_classes= 8\n",
    "\n",
    "dict = {\n",
    "     'Tesettür Elbise': [1, 0, 0, 0, 0, 0, 0, 0],\n",
    "     'Tunik': [0, 1, 0, 0, 0, 0, 0, 0],\n",
    "     'Şal':  [0, 0, 1, 0, 0, 0, 0, 0],\n",
    "     'Eşarp': [0, 0, 0, 1, 0, 0, 0, 0],\n",
    "     'Takım': [0, 0, 0, 0, 1, 0, 0, 0],\n",
    "     \"Kap / Pardesü\":[0, 0, 0, 0, 0, 1, 0, 0],\n",
    "     \"Ferace\":[0, 0, 0, 0, 0, 0, 1, 0],\n",
    "     \"T-shirt\":[0, 0, 0, 0, 0, 0, 0, 1]\n",
    "     }\n",
    "#One hot encoding of labels"
   ]
  },
  {
   "cell_type": "code",
   "execution_count": 22,
   "id": "9394b253",
   "metadata": {},
   "outputs": [],
   "source": [
    "class DataGenerator(tf.keras.utils.Sequence):\n",
    "    \n",
    "    def __init__(self, list_pose, batch_size= BATCH_SIZE, dim=(32,32,32), n_channels= 1, n_classes=8, shuffle= True):\n",
    "        self.dim = dim\n",
    "        self.batch_size = batch_size\n",
    "        self.list_pose = list_pose\n",
    "        self.n_classes = n_classes\n",
    "        self.n_channels = n_channels\n",
    "        self.shuffle = shuffle\n",
    "        self.on_epoch_end()\n",
    "        self.n = 0\n",
    "    \n",
    "    def __len__(self):\n",
    "        return int(np.floor(len(self.list_pose) / self.batch_size))\n",
    "\n",
    "    def __getitem__(self, index):\n",
    "        indexes = self.indexes[index*self.batch_size:(index+1)*self.batch_size]\n",
    "        list_pose_temp = [self.list_pose[k] for k in indexes]\n",
    "\n",
    "        i,p,l = self.__data_generation(list_pose_temp)\n",
    "        return [i, p], l #image, pose, label\n",
    "\n",
    "    def on_epoch_end(self):\n",
    "        self.indexes = np.arange(len(self.list_pose))\n",
    "        if self.shuffle == True:\n",
    "            np.random.shuffle(self.indexes)\n",
    "            \n",
    "    def __next__(self):\n",
    "        if self.n >= self.max:\n",
    "            self.n = 0\n",
    "        result = self.__getitem__(self.n)\n",
    "        self.n += 1\n",
    "        return result\n",
    "\n",
    "    def __data_generation(self, list_pose_temp):   \n",
    "        X = np.empty((self.batch_size, 66,1))\n",
    "        Z = np.empty((self.batch_size, 135,100, 3))\n",
    "        l = np.empty((self.batch_size, self.n_classes ))\n",
    "        #X: poses   Z: Images   l: Labels   \n",
    "        \n",
    "        for i, each in enumerate(list_pose_temp):          \n",
    "            X[i,] = np.reshape(np.load('C:/Users/IDU/OneDrive - GTÜ/Desktop/TEZ/poses/NPdata/'+ str(each[1]) +\".npy\", allow_pickle=True),(66,1))\n",
    "            image = Image.open('C:/Users/IDU/Desktop/dataset/'+ str( each[1] )+ \".jpg\")\n",
    "            image = np.array( (image.convert('RGB')).resize((100,135)) )\n",
    "            #print(each[2])\n",
    "            \n",
    "            Z[i,] = image / 255.0\n",
    "            l[i,] = dict[ each[2]]\n",
    "            \n",
    "        return Z,X,l\n",
    "    "
   ]
  },
  {
   "cell_type": "code",
   "execution_count": 1,
   "id": "fb477638",
   "metadata": {},
   "outputs": [
    {
     "ename": "NameError",
     "evalue": "name 'BATCH_SIZE' is not defined",
     "output_type": "error",
     "traceback": [
      "\u001b[1;31m---------------------------------------------------------------------------\u001b[0m",
      "\u001b[1;31mNameError\u001b[0m                                 Traceback (most recent call last)",
      "\u001b[1;32m~\\AppData\\Local\\Temp/ipykernel_3064/886816947.py\u001b[0m in \u001b[0;36m<module>\u001b[1;34m\u001b[0m\n\u001b[0;32m      1\u001b[0m params = {'dim': (32,32,32),\n\u001b[1;32m----> 2\u001b[1;33m           \u001b[1;34m'batch_size'\u001b[0m\u001b[1;33m:\u001b[0m \u001b[0mBATCH_SIZE\u001b[0m\u001b[1;33m,\u001b[0m\u001b[1;33m\u001b[0m\u001b[1;33m\u001b[0m\u001b[0m\n\u001b[0m\u001b[0;32m      3\u001b[0m           \u001b[1;34m'n_classes'\u001b[0m\u001b[1;33m:\u001b[0m \u001b[0mnum_classes\u001b[0m\u001b[1;33m,\u001b[0m\u001b[1;33m\u001b[0m\u001b[1;33m\u001b[0m\u001b[0m\n\u001b[0;32m      4\u001b[0m           \u001b[1;34m'n_channels'\u001b[0m\u001b[1;33m:\u001b[0m \u001b[1;36m1\u001b[0m\u001b[1;33m,\u001b[0m\u001b[1;33m\u001b[0m\u001b[1;33m\u001b[0m\u001b[0m\n\u001b[0;32m      5\u001b[0m           'shuffle': False}\n",
      "\u001b[1;31mNameError\u001b[0m: name 'BATCH_SIZE' is not defined"
     ]
    }
   ],
   "source": [
    "params = {'dim': (32,32,32),\n",
    "          'batch_size': BATCH_SIZE,\n",
    "          'n_classes': num_classes,\n",
    "          'n_channels': 1,\n",
    "          'shuffle': False}\n",
    "\n",
    "df = pd.read_csv(r\"C:\\Users\\IDU\\OneDrive - GTÜ\\Desktop\\TEZ\\poses\\Master_Thesis_Plus\\resnet-8classes\\out1.csv\")\n",
    "\n",
    "poselist = df.to_numpy() #contains productid and labels\n",
    "\n",
    "# Generators\n",
    "pose_generator = DataGenerator( poselist[:45000], **params) #train generator\n",
    "val_generator = DataGenerator( poselist[45001:], **params)"
   ]
  },
  {
   "cell_type": "markdown",
   "id": "a35909a1",
   "metadata": {},
   "source": [
    "________\n",
    "## test"
   ]
  },
  {
   "cell_type": "code",
   "execution_count": 15,
   "id": "45f99696",
   "metadata": {},
   "outputs": [
    {
     "name": "stdout",
     "output_type": "stream",
     "text": [
      "indexes  [0 1 2 3 4 5 6 7]\n",
      "1168509 [0, 1, 0, 0, 0, 0, 0, 0]\n",
      "7981329 [0, 0, 0, 0, 1, 0, 0, 0]\n",
      "263823 [0, 0, 0, 0, 0, 1, 0, 0]\n",
      "7978162 [1, 0, 0, 0, 0, 0, 0, 0]\n",
      "7956976 [0, 0, 1, 0, 0, 0, 0, 0]\n",
      "8083207 [0, 0, 0, 0, 0, 0, 0, 1]\n",
      "7957097 [0, 0, 1, 0, 0, 0, 0, 0]\n",
      "8058193 [0, 0, 0, 0, 0, 1, 0, 0]\n"
     ]
    },
    {
     "data": {
      "text/plain": [
       "array([[0., 1., 0., 0., 0., 0., 0., 0.],\n",
       "       [0., 0., 0., 0., 1., 0., 0., 0.],\n",
       "       [0., 0., 0., 0., 0., 1., 0., 0.],\n",
       "       [1., 0., 0., 0., 0., 0., 0., 0.],\n",
       "       [0., 0., 1., 0., 0., 0., 0., 0.],\n",
       "       [0., 0., 0., 0., 0., 0., 0., 1.],\n",
       "       [0., 0., 1., 0., 0., 0., 0., 0.],\n",
       "       [0., 0., 0., 0., 0., 1., 0., 0.]])"
      ]
     },
     "execution_count": 15,
     "metadata": {},
     "output_type": "execute_result"
    },
    {
     "data": {
      "image/png": "[encoded data removed]",
      "text/plain": [
       "<Figure size 432x288 with 1 Axes>"
      ]
     },
     "metadata": {
      "needs_background": "light"
     },
     "output_type": "display_data"
    }
   ],
   "source": [
    "pose_generator.__getitem__(0)[1]"
   ]
  },
  {
   "cell_type": "code",
   "execution_count": 16,
   "id": "38d75030",
   "metadata": {},
   "outputs": [
    {
     "data": {
      "text/plain": [
       "array([[3, 1168509, 'Tunik'],\n",
       "       [5, 7981329, 'Takım'],\n",
       "       [11, 263823, 'Kap / Pardesü'],\n",
       "       [20, 7978162, 'Tesettür Elbise'],\n",
       "       [40, 7956976, 'Şal'],\n",
       "       [43, 8083207, 'T-shirt'],\n",
       "       [45, 7957097, 'Şal'],\n",
       "       [58, 8058193, 'Kap / Pardesü']], dtype=object)"
      ]
     },
     "execution_count": 16,
     "metadata": {},
     "output_type": "execute_result"
    }
   ],
   "source": [
    "poselist[:8]"
   ]
  },
  {
   "cell_type": "markdown",
   "id": "29161a17",
   "metadata": {},
   "source": [
    "_____"
   ]
  },
  {
   "cell_type": "code",
   "execution_count": 24,
   "id": "32fb1965",
   "metadata": {},
   "outputs": [],
   "source": [
    "input_shape=(135,100,3) #image input shape\n",
    "pose_shape = (66,1)\n",
    "pose_input = tf.keras.layers.Input(pose_shape)\n",
    "\n",
    "model = ResNet50( include_top= False , input_shape= input_shape , classes= num_classes)\n",
    "\n",
    "x = GlobalAveragePooling2D()(model.output)\n",
    "x = Dense(256, activation ='relu')(x)\n",
    "x = Dense(66, activation ='relu')(x)\n",
    "x= tf.expand_dims(x, axis= -1)\n",
    "\n",
    "concat = tf.concat([x, pose_input], axis=1 )\n",
    "concat = Flatten()(concat)\n",
    "\n",
    "x = tf.keras.layers.Dense(32, activation= 'relu')(concat)\n",
    "\n",
    "y = tf.keras.layers.Dense(num_classes)(x)\n",
    "\n",
    "model = tf.keras.models.Model(inputs= [model.input, pose_input] , outputs= y)"
   ]
  },
  {
   "cell_type": "code",
   "execution_count": 25,
   "id": "91b350a0",
   "metadata": {},
   "outputs": [
    {
     "data": {
      "text/plain": [
       "[]"
      ]
     },
     "execution_count": 25,
     "metadata": {},
     "output_type": "execute_result"
    }
   ],
   "source": [
    "checkpoint_path = \"training_2/cp.ckpt\"\n",
    "checkpoint_dir = os.path.dirname(checkpoint_path)\n",
    "os.listdir(checkpoint_dir)"
   ]
  },
  {
   "cell_type": "code",
   "execution_count": 27,
   "id": "483052f2",
   "metadata": {},
   "outputs": [],
   "source": [
    "#model.load_weights(checkpoint_path)"
   ]
  },
  {
   "cell_type": "code",
   "execution_count": 28,
   "id": "8a21f667",
   "metadata": {},
   "outputs": [],
   "source": [
    "model.compile( optimizer= \"adam\", loss='categorical_crossentropy', metrics= ['accuracy'] )"
   ]
  },
  {
   "cell_type": "code",
   "execution_count": 29,
   "id": "2da5be3c",
   "metadata": {},
   "outputs": [],
   "source": [
    "checkpoint_path = \"training_1/cp.ckpt\"\n",
    "checkpoint_dir = os.path.dirname(checkpoint_path)\n",
    "\n",
    "# Create a callback that saves the model's weights\n",
    "cp_callback = tf.keras.callbacks.ModelCheckpoint(filepath= checkpoint_path,\n",
    "                                                 save_weights_only= True,\n",
    "                                                 verbose= 1 )"
   ]
  },
  {
   "cell_type": "code",
   "execution_count": 30,
   "id": "41a531f9",
   "metadata": {},
   "outputs": [
    {
     "name": "stdout",
     "output_type": "stream",
     "text": [
      "Epoch 1/5\n",
      "703/703 [==============================] - ETA: 0s - loss: 7.8538 - accuracy: 0.1725 \n",
      "Epoch 00001: saving model to training_1\\cp.ckpt\n",
      "703/703 [==============================] - 13910s 20s/step - loss: 7.8538 - accuracy: 0.1725 - val_loss: 7.5063 - val_accuracy: 0.2072\n",
      "Epoch 2/5\n",
      "703/703 [==============================] - ETA: 0s - loss: 7.5249 - accuracy: 0.1769 \n",
      "Epoch 00002: saving model to training_1\\cp.ckpt\n",
      "703/703 [==============================] - 13779s 20s/step - loss: 7.5249 - accuracy: 0.1769 - val_loss: 7.4407 - val_accuracy: 0.2099\n",
      "Epoch 3/5\n",
      "703/703 [==============================] - ETA: 0s - loss: 7.5249 - accuracy: 0.1769 \n",
      "Epoch 00003: saving model to training_1\\cp.ckpt\n",
      "703/703 [==============================] - 13880s 20s/step - loss: 7.5249 - accuracy: 0.1769 - val_loss: 7.4366 - val_accuracy: 0.2097\n",
      "Epoch 4/5\n",
      "703/703 [==============================] - ETA: 0s - loss: 7.5249 - accuracy: 0.1769 \n",
      "Epoch 00004: saving model to training_1\\cp.ckpt\n",
      "703/703 [==============================] - 13958s 20s/step - loss: 7.5249 - accuracy: 0.1769 - val_loss: 7.4284 - val_accuracy: 0.2097\n",
      "Epoch 5/5\n",
      "703/703 [==============================] - ETA: 0s - loss: 7.5249 - accuracy: 0.1769 \n",
      "Epoch 00005: saving model to training_1\\cp.ckpt\n",
      "703/703 [==============================] - 13999s 20s/step - loss: 7.5249 - accuracy: 0.1769 - val_loss: 7.4407 - val_accuracy: 0.2097\n"
     ]
    }
   ],
   "source": [
    "history= model.fit(pose_generator, \n",
    "          validation_data= val_generator,\n",
    "          batch_size= BATCH_SIZE,\n",
    "          epochs= 5,\n",
    "          callbacks= [cp_callback])"
   ]
  },
  {
   "cell_type": "code",
   "execution_count": null,
   "id": "77ea8b2e",
   "metadata": {},
   "outputs": [],
   "source": [
    "model.save_weights('./checkpoints/my_checkpoint')\n",
    "model.save_weights(\"C:/Users/IDU/OneDrive - GTÜ/Desktop/TEZ/poses/Master_Thesis_Plus/pretrained_weights_8class.h5\")"
   ]
  },
  {
   "cell_type": "code",
   "execution_count": 31,
   "id": "f57d7863",
   "metadata": {},
   "outputs": [
    {
     "data": {
      "image/png": "[encoded data removed]",
      "text/plain": [
       "<Figure size 432x288 with 1 Axes>"
      ]
     },
     "metadata": {
      "needs_background": "light"
     },
     "output_type": "display_data"
    }
   ],
   "source": [
    "plt.plot(history.history['accuracy'])\n",
    "plt.plot(history.history['val_accuracy'])\n",
    "plt.title('model accuracy')\n",
    "plt.ylabel('accuracy')\n",
    "plt.xlabel('epoch')\n",
    "plt.legend(['train', 'val'], loc='upper left')\n",
    "\n",
    "plt.savefig('model_accuracy.png')\n",
    "plt.show()\n"
   ]
  },
  {
   "cell_type": "code",
   "execution_count": 32,
   "id": "eeb0ffdd",
   "metadata": {},
   "outputs": [
    {
     "data": {
      "image/png": "[encoded data removed]",
      "text/plain": [
       "<Figure size 432x288 with 1 Axes>"
      ]
     },
     "metadata": {
      "needs_background": "light"
     },
     "output_type": "display_data"
    }
   ],
   "source": [
    "\n",
    "plt.plot(history.history['loss'])\n",
    "plt.plot(history.history['val_loss'])\n",
    "plt.title('model loss')\n",
    "plt.ylabel('loss')\n",
    "plt.xlabel('epoch')\n",
    "plt.legend(['train', 'val'], loc='upper left')\n",
    "plt.savefig('model_loss.png')\n",
    "plt.show()\n"
   ]
  },
  {
   "cell_type": "code",
   "execution_count": 34,
   "id": "c2438fcf",
   "metadata": {},
   "outputs": [],
   "source": [
    "model.save('model_poseResnet.h5')"
   ]
  },
  {
   "cell_type": "code",
   "execution_count": null,
   "id": "f7e7a8be",
   "metadata": {},
   "outputs": [],
   "source": []
  }
 ],
 "metadata": {
  "kernelspec": {
   "display_name": "Python 3 (ipykernel)",
   "language": "python",
   "name": "python3"
  },
  "language_info": {
   "codemirror_mode": {
    "name": "ipython",
    "version": 3
   },
   "file_extension": ".py",
   "mimetype": "text/x-python",
   "name": "python",
   "nbconvert_exporter": "python",
   "pygments_lexer": "ipython3",
   "version": "3.8.12"
  }
 },
 "nbformat": 4,
 "nbformat_minor": 5
}
